{
 "cells": [
  {
   "cell_type": "markdown",
   "id": "d9baf43f",
   "metadata": {},
   "source": [
    "# Daily Coading Problem 15"
   ]
  },
  {
   "cell_type": "markdown",
   "id": "06ab6522",
   "metadata": {},
   "source": [
    "This problem was asked by Facebook.\n",
    "\n",
    "Given a stream of elements too large to store in memory, pick a random element from the stream with uniform probability.\n",
    "\n"
   ]
  },
  {
   "cell_type": "markdown",
   "id": "55655730",
   "metadata": {},
   "source": [
    "Naively, we could process the stream and store all the elements we encounter in a list, find its size, and pick a random element from [0, size - 1]. The problem with this approach is that it would take O(N) space for a large N.\n",
    "\n",
    "Instead, let’s attempt to solve using loop invariants. On the ith iteration of our loop to pick a random element, let’s assume we already picked an element uniformly from [0, i - 1]. In order to maintain the loop invariant, we would need to pick the ith element as the new random element at 1 / (i + 1) chance. For the base case where i = 0, let’s say the random element is the first one. Then we know it works because\n",
    "\n",
    "* For i = 0, we would’ve picked uniformly from [0, 0].\n",
    "* For i >= 0, before the loop began, any element K in [0, i - 1] had 1 / i chance of being chosen as the random     element. We want K to have 1 / (i + 1) chance of being chosen after the iteration. This is the case since the     chance of having being chosen already but not getting swapped with the ith element is 1 / i (1 - (1 / (i + 1)))   which is 1 / i i / (i + 1) or 1 / (i + 1)\n",
    "\n",
    "Let’s see how the code would look:"
   ]
  },
  {
   "cell_type": "code",
   "execution_count": 2,
   "id": "da9f35df",
   "metadata": {},
   "outputs": [
    {
     "name": "stdout",
     "output_type": "stream",
     "text": [
      "f\n"
     ]
    }
   ],
   "source": [
    "import random\n",
    "\n",
    "def pick(big_stream):\n",
    "    random_element = None\n",
    "\n",
    "    for i, e in enumerate(big_stream):\n",
    "        if random.randint(1, i + 1) == 1:\n",
    "            random_element = e\n",
    "    return random_element\n",
    "\n",
    "print(pick('fcb'))"
   ]
  },
  {
   "cell_type": "markdown",
   "id": "d3656968",
   "metadata": {},
   "source": [
    "Since we are only storing a single variable, this only takes up constant space!\n",
    "\n",
    "By the way, this is called reservoir sampling!"
   ]
  }
 ],
 "metadata": {
  "kernelspec": {
   "display_name": "Python 3 (ipykernel)",
   "language": "python",
   "name": "python3"
  },
  "language_info": {
   "codemirror_mode": {
    "name": "ipython",
    "version": 3
   },
   "file_extension": ".py",
   "mimetype": "text/x-python",
   "name": "python",
   "nbconvert_exporter": "python",
   "pygments_lexer": "ipython3",
   "version": "3.8.10"
  }
 },
 "nbformat": 4,
 "nbformat_minor": 5
}
